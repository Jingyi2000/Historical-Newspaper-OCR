{
 "cells": [
  {
   "cell_type": "markdown",
   "id": "96ec04ae-913b-4c90-a677-73e78e29209d",
   "metadata": {},
   "source": [
    "# PERO-OCR"
   ]
  },
  {
   "cell_type": "markdown",
   "id": "ab4c51d4-2f7b-4498-8d10-fcb0c1491f88",
   "metadata": {},
   "source": [
    "## About PERO OCR\n",
    "PERO OCR is an advanced optical character recognition technology developed by the PERO project team at Brno University of Technology.The technical advantage of PERO OCR is its high adaptability and accuracy for all types of documents and its ability to handle low-quality printed and handwritten documents. It supports most European languages, including Latin, and can handle older documents in German and Czech Fraktur fonts as well as similar fonts, mainly supporting handwritten documents in Czech. It also provides an efficient text correction interface and several transcription formats for download, such as ALTO, PAGE XML and plain text.PERO OCR can be used in several ways: APIs, web applications and Python packages."
   ]
  },
  {
   "cell_type": "markdown",
   "id": "26c65a6f-a797-4e12-a83f-bcb8cf5a0973",
   "metadata": {},
   "source": [
    "## Usage of PERO OCR (for this project)\n",
    "Previously, in the test of the WEB application, we found that PERO-OCR demonstrated outstanding [results](./path/to/local/image.jpg) is not only very fast (the average time to recognize the layout of each newspaper page is 3 seconds, and the time to recognize the text is 30 seconds), but also has a very high correctness rate (the correctness rate of recognizing the text of each newspaper page is basically higher than about 95%).\n",
    "\n",
    "Nevertheless, PERO OCR's WEB application only supports single page uploads, does not support mass processing, and has limitations on the size of the images themselves.\n",
    "\n",
    "PERO OCR's[API](https://app.swaggerhub.com/apis-docs/LachubCz/PERO-API/1.0.4#/external/post_processing_request) is designed for automation and integration. However, after testing, it was found that PERO OCR's API needs to provide URL links to images when uploading images to be processed, rather than uploading images directly from local. This means that you need to upload the pre-processed images to the cloud storage service first, and then provide the URL links of these images to the API. in addition, since the API is a pre-defined set of functions and interfaces, you can't modify its internal functions, which will cause inconvenience to the subsequent adjustment of the image size limit. For the above reasons, we give up using the API for the time being.\n",
    "\n",
    "Therefore, finally it was decided to call the [Python Package](https://pypi.org/project/pero-ocr/0.2/). According to PERO OCR's [guidance](https://github.com/DCGM/pero-ocr/blob/master/README.md#integration-of-the-pero-ocr-python-module) on Github: A series of packages need to be installed, then the publicly available [model with its configuration file](https://github.com/DCGM/pero-ocr#available-models) can be downloaded as needed, and after completing the above run the following code and make adjustments to the source code as necessary."
   ]
  },
  {
   "cell_type": "markdown",
   "id": "6f275033-0045-4baf-84c5-801358ba5f18",
   "metadata": {},
   "source": [
    "##"
   ]
  },
  {
   "cell_type": "code",
   "execution_count": null,
   "id": "f1011acd",
   "metadata": {
    "vscode": {
     "languageId": "plaintext"
    }
   },
   "outputs": [],
   "source": [
    "import os\n",
    "import configparser\n",
    "import cv2\n",
    "import numpy as np\n",
    "from pero_ocr.document_ocr.layout import PageLayout\n",
    "from pero_ocr.document_ocr.page_parser import PageParser\n",
    "\n",
    "# Read config file.\n",
    "config_path = \"./config_file.ini\"\n",
    "config = configparser.ConfigParser()\n",
    "config.read(config_path)\n",
    "\n",
    "# Init the OCR pipeline. \n",
    "# You have to specify config_path to be able to use relative paths\n",
    "# inside the config file.\n",
    "page_parser = PageParser(config, config_path=os.path.dirname(config_path))\n",
    "\n",
    "# Read the document page image.\n",
    "input_image_path = \"page_image.jpg\"\n",
    "image = cv2.imread(input_image_path, 1)\n",
    "\n",
    "# Init empty page content. \n",
    "# This object will be updated by the ocr pipeline. id can be any string and it is used to identify the page.\n",
    "page_layout = PageLayout(id=input_image_path,\n",
    "     page_size=(image.shape[0], image.shape[1]))\n",
    "\n",
    "# Process the image by the OCR pipeline\n",
    "page_layout = page_parser.process_page(image, page_layout)\n",
    "\n",
    "page_layout.to_pagexml('output_page.xml') # Save results as Page XML.\n",
    "page_layout.to_altoxml('output_ALTO.xml') # Save results as ALTO XML.\n",
    "\n",
    "# Render detected text regions and text lines into the image and\n",
    "# save it into a file.\n",
    "rendered_image = page_layout.render_to_image(image) \n",
    "cv2.imwrite('page_image_render.jpg', rendered_image)\n",
    "\n",
    "# Save each cropped text line in a separate .jpg file.\n",
    "for region in page_layout.regions:\n",
    "  for line in region.lines:\n",
    "     cv2.imwrite(f'file_id-{line.id}.jpg', line.crop.astype(np.uint8))"
   ]
  },
  {
   "cell_type": "markdown",
   "id": "9007a8b9",
   "metadata": {},
   "source": [
    "## Environment configuration issues\n",
    "In theory, the above code is very simple to execute. However, in practice, the most difficult part is the environment configuration.\n",
    "This project is based on the Anaconda environment.\n",
    "\n",
    "### Create a new environment\n",
    "conda create -n pero-ocr python=3.9\n",
    "conda activate pero-ocr\n",
    "The first step is to open a new environment in Anaconda in the terminal and activate it, in order to create as clean an environment as possible for this project, so as to facilitate the installation of subsequent packages and avoid some version conflict problems with existing packages.\n",
    "\n",
    "### Install the necessary packages to use PERO OCR\n",
    "conda install -c anaconda jupyter\n",
    "\n",
    "pip install pero_ocr\n",
    "\n",
    "During the installation of shapely and libgeos, we encountered version conflict issues, so after uninstalling both we reassigned the compatible versions\n",
    "\n",
    "conda remove shapely\n",
    "\n",
    "conda remove libgeos\n",
    "\n",
    "conda install -c conda-forge shapely=1.7.1\n",
    "\n",
    "conda install -c conda-forge libgeos=3.8.1\n",
    "\n",
    "A note on version conflict issues:\n",
    "Since the pero_ocr used is version 0.6.1 released on October 20, 2022, the wrapped version should be earlier than this date, and try to choose a stable version for multiple tests.\n",
    "\n",
    "### NumPy version downgrade issues\n",
    "After successfully installing the above necessary packages, the runtime encountered a NumPy versioning issue reporting an error:\n",
    "\n",
    "AttributeError: module 'numpy' has no attribute 'float'.\n",
    "np.float was a deprecated alias for the builtin float. To avoid this error in existing code, use float by itself. Doing this will not modify any behavior and If you specifically wanted the numpy scalar type, use np.float64 here.\n",
    "The aliases was originally deprecated in NumPy 1.20; for more details and guidance see the original release note at.\n",
    "https://numpy.org/devdocs/release/1.20.0-notes.html#deprecations\n",
    "\n",
    "According to the error message, the NumPy version needs to be lower than 1.20, however, after the NumPy version was lowered to 1.19.5, SciPy and Numba used the latest version, which again conflicted with the NumPy version, and this was not resolved after several downgrades."
   ]
  },
  {
   "cell_type": "markdown",
   "id": "6c9ed102-747d-4743-b514-e00f11486d27",
   "metadata": {},
   "source": [
    "##"
   ]
  }
 ],
 "metadata": {
  "kernelspec": {
   "display_name": "Python 3 (ipykernel)",
   "language": "python",
   "name": "python3"
  },
  "language_info": {
   "codemirror_mode": {
    "name": "ipython",
    "version": 3
   },
   "file_extension": ".py",
   "mimetype": "text/x-python",
   "name": "python",
   "nbconvert_exporter": "python",
   "pygments_lexer": "ipython3",
   "version": "3.10.13"
  }
 },
 "nbformat": 4,
 "nbformat_minor": 5
}
