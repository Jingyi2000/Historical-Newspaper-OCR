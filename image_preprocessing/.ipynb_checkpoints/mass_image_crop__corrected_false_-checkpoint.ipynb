{
 "cells": [
  {
   "cell_type": "markdown",
   "id": "01d95fc5",
   "metadata": {},
   "source": [
    "# Mass Image cropping\n",
    "In this phase, the previously developed image cropping algorithm needs to be applied to all the newspaper images from 1942. Observations and tests have revealed that the majority of images require cropping due to the presence of content from other pages. However, the bulk scanned images vary, generally falling into two cases: one where the correct page outline is much fainter compared to other lines on the page, and the other where the correct outline is strong but overshadowed by even stronger lines on the page. For these scenarios, the former requires enhanced sensitivity in contour recognition, while the latter necessitates multiple iterations of edge dilation to make the image edges more prominent, aiding in clearer separation of the main part of the image.**(The algorithm used remains the same, but the parameters are adjusted differently for the two different situations).**\n",
    "\n",
    "**Core objective is to achieve the best cropping results for various types of scanned images while maximizing the reduction of manual effort in mass processing.**"
   ]
  },
  {
   "cell_type": "markdown",
   "id": "b1265ca7",
   "metadata": {},
   "source": [
    "## 1. Algorithm adjustment \n",
    "Adjust the algorithm parameters according to different scan conditions."
   ]
  },
  {
   "cell_type": "code",
   "execution_count": 78,
   "id": "ec643ad3",
   "metadata": {},
   "outputs": [],
   "source": [
    "import cv2\n",
    "import numpy as np\n",
    "import matplotlib.pyplot as plt"
   ]
  },
  {
   "cell_type": "markdown",
   "id": "141cc53a",
   "metadata": {},
   "source": [
    "1. This is for the first case, which is, the correct outline of the page is fainter/lighter compared to other frames on the page, so focus on the threshold setting during edge recognition:"
   ]
  },
  {
   "cell_type": "code",
   "execution_count": 3,
   "id": "3609ba4d",
   "metadata": {},
   "outputs": [],
   "source": [
    "def auto_crop_image(image_path):\n",
    "    image = cv2.imread(image_path)\n",
    "    gray = cv2.cvtColor(image, cv2.COLOR_BGR2GRAY)\n",
    "    edges = cv2.Canny(gray, 1, 2) \n",
    "    # Tests have shown that minimal values are most effective in identifying extreme cases\n",
    "    # where edges are very faint and almost indistinguishable\n",
    "\n",
    "    kernel = np.ones((5,5), np.uint8)\n",
    "    dilated_edges = cv2.dilate(edges, kernel, iterations=1)\n",
    "\n",
    "    mask = np.ones_like(dilated_edges) * 255\n",
    "    mask[dilated_edges == 255] = 0\n",
    "\n",
    "    contours, _ = cv2.findContours(mask, cv2.RETR_EXTERNAL, cv2.CHAIN_APPROX_SIMPLE)\n",
    "    if contours:\n",
    "        sorted_contours = sorted(contours, key=cv2.contourArea, reverse=True)\n",
    "        x, y, w, h = cv2.boundingRect(sorted_contours[0])\n",
    "        cropped_image = image[y:y+h, x:x+w]\n",
    "        return image, cropped_image\n",
    "    else:\n",
    "        return image, None"
   ]
  },
  {
   "cell_type": "markdown",
   "id": "683aecfc",
   "metadata": {},
   "source": [
    "2. This is for the second case, which is, the correct outline is strong but overshadowed by even stronger lines on the page, so focus on the number of iterations:"
   ]
  },
  {
   "cell_type": "code",
   "execution_count": 187,
   "id": "cbf87b10",
   "metadata": {},
   "outputs": [],
   "source": [
    "def auto_crop_image(image_path):\n",
    "    image = cv2.imread(image_path)\n",
    "    gray = cv2.cvtColor(image, cv2.COLOR_BGR2GRAY)\n",
    "    edges = cv2.Canny(gray, 50, 150)\n",
    "\n",
    "    kernel = np.ones((5,5), np.uint8)\n",
    "    dilated_edges = cv2.dilate(edges, kernel, iterations=4) \n",
    "    # Tests have shown that setting iterations to 4 yielded the desired results\n",
    "\n",
    "    mask = np.ones_like(dilated_edges) * 255\n",
    "    mask[dilated_edges == 255] = 0\n",
    "\n",
    "    contours, _ = cv2.findContours(mask, cv2.RETR_EXTERNAL, cv2.CHAIN_APPROX_SIMPLE)\n",
    "    if contours:\n",
    "        sorted_contours = sorted(contours, key=cv2.contourArea, reverse=True)\n",
    "        x, y, w, h = cv2.boundingRect(sorted_contours[0])\n",
    "        cropped_image = image[y:y+h, x:x+w]\n",
    "        return image, cropped_image\n",
    "    else:\n",
    "        return image, None"
   ]
  },
  {
   "cell_type": "markdown",
   "id": "831ae0dd",
   "metadata": {},
   "source": [
    "## 2. Execute mass processing\n",
    "Develop corresponding iterative methods based on the structure of mass files stored on the local computer."
   ]
  },
  {
   "cell_type": "code",
   "execution_count": 39,
   "id": "1aa26176",
   "metadata": {},
   "outputs": [],
   "source": [
    "import cv2\n",
    "import numpy as np\n",
    "import os\n",
    "import glob\n",
    "\n",
    "def auto_crop_image(image_path):\n",
    "    image = cv2.imread(image_path)\n",
    "    gray = cv2.cvtColor(image, cv2.COLOR_BGR2GRAY)\n",
    "    edges = cv2.Canny(gray, 50, 150)\n",
    "\n",
    "    kernel = np.ones((5,5), np.uint8)\n",
    "    dilated_edges = cv2.dilate(edges, kernel, iterations=1)\n",
    "\n",
    "    mask = np.ones_like(dilated_edges) * 255\n",
    "    mask[dilated_edges == 255] = 0\n",
    "\n",
    "    contours, _ = cv2.findContours(mask, cv2.RETR_EXTERNAL, cv2.CHAIN_APPROX_SIMPLE)\n",
    "    if contours:\n",
    "        sorted_contours = sorted(contours, key=cv2.contourArea, reverse=True)\n",
    "        x, y, w, h = cv2.boundingRect(sorted_contours[0])\n",
    "        cropped_image = image[y:y+h, x:x+w]\n",
    "        return image, cropped_image\n",
    "    else:\n",
    "        return image, None\n",
    "    \n",
    "source_folder = \"/home/vivek/Desktop/Freiheitskampf/1942\"\n",
    "result_folder = \"/home/vivek/Desktop/result\"\n",
    "\n",
    "\n",
    "# Ensure the result folder exists\n",
    "if not os.path.exists(result_folder):\n",
    "    os.makedirs(result_folder)\n",
    "\n",
    "for month in range(1, 13):\n",
    "    month_str = str(month).zfill(2)\n",
    "    month_source_folder = os.path.join(source_folder, month_str, \"files\")\n",
    "    month_result_folder = os.path.join(result_folder, month_str)\n",
    "\n",
    "    # Ensure the month folder in the result directory exists\n",
    "    if not os.path.exists(month_result_folder):\n",
    "        os.makedirs(month_result_folder)\n",
    "\n",
    "    for day in range(1, 32):  # Assuming up to 31 days in a month\n",
    "        day_str = str(day).zfill(2)\n",
    "        day_image_folder = os.path.join(month_source_folder, day_str, \"files\")\n",
    "\n",
    "        if os.path.isdir(day_image_folder):\n",
    "            for image_file in glob.glob(os.path.join(day_image_folder, \"*.jpg\")):\n",
    "                original_image, cropped_image = auto_crop_image(image_file)\n",
    "                \n",
    "                # Decide which image to save (cropped or original)\n",
    "                image_to_save = cropped_image if cropped_image is not None else original_image\n",
    "                if image_to_save is not None:\n",
    "                    # Create a unique file name to prevent overwriting\n",
    "                    image_basename = os.path.basename(image_file)\n",
    "                    new_image_name = f\"{month_str}_{day_str}_{image_basename.split(\".\")[0]}_cropped.jpg\" if cropped_image is not None else f\"{month_str}_{day_str}_{image_basename}\"\n",
    "                    save_path = os.path.join(month_result_folder, new_image_name)\n",
    "                    cv2.imwrite(save_path, image_to_save)\n"
   ]
  },
  {
   "cell_type": "markdown",
   "id": "6add9248",
   "metadata": {},
   "source": [
    "## 3. Post-processing\n",
    "Images that were not successfully recognized by the first algorithm can undergo further processing using the second algorithm. It's important to note that in this process, there is no need for manual selection of successfully recognized images; all images can be collectively processed using the second algorithm."
   ]
  },
  {
   "cell_type": "code",
   "execution_count": null,
   "id": "ae873ab9",
   "metadata": {},
   "outputs": [],
   "source": [
    "first_folder = \"/home/vivek/Desktop/result/first_01\"\n",
    "second_folder = \"/home/vivek/Desktop/result/second_01\"\n",
    "\n",
    "for filename in os.listdir(false_folder):\n",
    "    # Build the complete file path\n",
    "    file_path = os.path.join(false_folder, filename)\n",
    "    \n",
    "    # Check if it's a file\n",
    "    if os.path.isfile(file_path):\n",
    "        # Apply auto cropping\n",
    "        _, cropped_image = auto_crop_image(file_path)\n",
    "        \n",
    "        # If there's a cropping result, save it to the target folder\n",
    "        if cropped_image is not None:\n",
    "            # Build the save path\n",
    "            save_path = os.path.join(corrected_folder, filename)\n",
    "            # Save the cropped image\n",
    "            cv2.imwrite(save_path, cropped_image)"
   ]
  }
 ],
 "metadata": {
  "kernelspec": {
   "display_name": "Python 3 (ipykernel)",
   "language": "python",
   "name": "python3"
  },
  "language_info": {
   "codemirror_mode": {
    "name": "ipython",
    "version": 3
   },
   "file_extension": ".py",
   "mimetype": "text/x-python",
   "name": "python",
   "nbconvert_exporter": "python",
   "pygments_lexer": "ipython3",
   "version": "3.10.13"
  }
 },
 "nbformat": 4,
 "nbformat_minor": 5
}
