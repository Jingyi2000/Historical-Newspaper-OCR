{
 "cells": [
  {
   "cell_type": "markdown",
   "id": "01d95fc5",
   "metadata": {},
   "source": [
    "## Massen Image Cropping\n",
    "OpenCV (Open Source Computer Vision Library) is an open-source computer vision and machine learning software library. It offers a rich set of image processing capabilities, including image transformation, filtering, feature detection, image segmentation, and more. Observations of scanned newspaper documents reveal the following characteristics: 1. The quality of the newspaper scans overall is good. 2. Some of the newspaper pages scanned include unwanted content (for example, a small part of the right page is included in the scan of the left page)."
   ]
  },
  {
   "cell_type": "code",
   "execution_count": 29,
   "id": "ec643ad3",
   "metadata": {},
   "outputs": [],
   "source": [
    "import cv2\n",
    "import numpy as np\n",
    "import matplotlib.pyplot as plt"
   ]
  },
  {
   "cell_type": "code",
   "execution_count": 30,
   "id": "cbf87b10",
   "metadata": {},
   "outputs": [],
   "source": [
    "def auto_crop_image(image_path):\n",
    "    image = cv2.imread(image_path)\n",
    "    gray = cv2.cvtColor(image, cv2.COLOR_BGR2GRAY)\n",
    "    edges = cv2.Canny(gray, 50, 150)\n",
    "\n",
    "    kernel = np.ones((5,5), np.uint8)\n",
    "    dilated_edges = cv2.dilate(edges, kernel, iterations=1)\n",
    "\n",
    "    mask = np.ones_like(dilated_edges) * 255\n",
    "    mask[dilated_edges == 255] = 0\n",
    "\n",
    "    contours, _ = cv2.findContours(mask, cv2.RETR_EXTERNAL, cv2.CHAIN_APPROX_SIMPLE)\n",
    "    if contours:\n",
    "        sorted_contours = sorted(contours, key=cv2.contourArea, reverse=True)\n",
    "        x, y, w, h = cv2.boundingRect(sorted_contours[0])\n",
    "        cropped_image = image[y:y+h, x:x+w]\n",
    "        return image, cropped_image\n",
    "    else:\n",
    "        return image, None"
   ]
  },
  {
   "cell_type": "code",
   "execution_count": 18,
   "id": "ff628a1c",
   "metadata": {
    "scrolled": true
   },
   "outputs": [
    {
     "ename": "error",
     "evalue": "OpenCV(4.6.0) /croot/opencv-suite_1691620365762/work/modules/imgproc/src/color.cpp:182: error: (-215:Assertion failed) !_src.empty() in function 'cvtColor'\n",
     "output_type": "error",
     "traceback": [
      "\u001b[0;31m---------------------------------------------------------------------------\u001b[0m",
      "\u001b[0;31merror\u001b[0m                                     Traceback (most recent call last)",
      "Cell \u001b[0;32mIn[18], line 1\u001b[0m\n\u001b[0;32m----> 1\u001b[0m original_image, cropped_image \u001b[38;5;241m=\u001b[39m auto_crop_image(\u001b[38;5;124m'\u001b[39m\u001b[38;5;124m/home/vivek/Desktop/Freiheitskampf/1938/01/files/02/files\u001b[39m\u001b[38;5;124m'\u001b[39m)\n\u001b[1;32m      2\u001b[0m fig, axes \u001b[38;5;241m=\u001b[39m plt\u001b[38;5;241m.\u001b[39msubplots(\u001b[38;5;241m1\u001b[39m, \u001b[38;5;241m2\u001b[39m, figsize\u001b[38;5;241m=\u001b[39m(\u001b[38;5;241m10\u001b[39m, \u001b[38;5;241m5\u001b[39m))\n\u001b[1;32m      4\u001b[0m axes[\u001b[38;5;241m0\u001b[39m]\u001b[38;5;241m.\u001b[39mimshow(cv2\u001b[38;5;241m.\u001b[39mcvtColor(original_image, cv2\u001b[38;5;241m.\u001b[39mCOLOR_BGR2RGB))\n",
      "Cell \u001b[0;32mIn[17], line 3\u001b[0m, in \u001b[0;36mauto_crop_image\u001b[0;34m(image_path)\u001b[0m\n\u001b[1;32m      1\u001b[0m \u001b[38;5;28;01mdef\u001b[39;00m \u001b[38;5;21mauto_crop_image\u001b[39m(image_path):\n\u001b[1;32m      2\u001b[0m     image \u001b[38;5;241m=\u001b[39m cv2\u001b[38;5;241m.\u001b[39mimread(image_path)\n\u001b[0;32m----> 3\u001b[0m     gray \u001b[38;5;241m=\u001b[39m cv2\u001b[38;5;241m.\u001b[39mcvtColor(image, cv2\u001b[38;5;241m.\u001b[39mCOLOR_BGR2GRAY)\n\u001b[1;32m      4\u001b[0m     edges \u001b[38;5;241m=\u001b[39m cv2\u001b[38;5;241m.\u001b[39mCanny(gray, \u001b[38;5;241m50\u001b[39m, \u001b[38;5;241m150\u001b[39m)\n\u001b[1;32m      6\u001b[0m     kernel \u001b[38;5;241m=\u001b[39m np\u001b[38;5;241m.\u001b[39mones((\u001b[38;5;241m5\u001b[39m,\u001b[38;5;241m5\u001b[39m), np\u001b[38;5;241m.\u001b[39muint8)\n",
      "\u001b[0;31merror\u001b[0m: OpenCV(4.6.0) /croot/opencv-suite_1691620365762/work/modules/imgproc/src/color.cpp:182: error: (-215:Assertion failed) !_src.empty() in function 'cvtColor'\n"
     ]
    }
   ],
   "source": [
    "original_image, cropped_image = auto_crop_image('/home/vivek/Desktop/Freiheitskampf/1938/01/files/02/files')\n",
    "fig, axes = plt.subplots(1, 2, figsize=(10, 5))\n",
    "\n",
    "axes[0].imshow(cv2.cvtColor(original_image, cv2.COLOR_BGR2RGB))\n",
    "axes[0].set_title(\"Original Image\")\n",
    "axes[0].axis('off')\n",
    "\n",
    "if cropped_image is not None:\n",
    "    axes[1].imshow(cv2.cvtColor(cropped_image, cv2.COLOR_BGR2RGB))\n",
    "    axes[1].set_title(\"Cropped Image\")\n",
    "    save_path = '/home/vivek/Desktop/'\n",
    "    cv2.imwrite(save_path, cropped_image)\n",
    "else:\n",
    "    axes[1].text(0.5, 0.5, 'No Change', horizontalalignment='center', verticalalignment='center')\n",
    "    save_path = '/Users/yu/Desktop/linshi/result/00000003_uncropped.jpg'\n",
    "    cv2.imwrite(save_path, original_image)\n",
    "axes[1].axis('off')\n",
    "\n",
    "plt.show()"
   ]
  },
  {
   "cell_type": "code",
   "execution_count": 15,
   "id": "28e965bc",
   "metadata": {},
   "outputs": [
    {
     "name": "stderr",
     "output_type": "stream",
     "text": [
      "[ WARN:0@1086.434] global /croot/opencv-suite_1691620365762/work/modules/imgcodecs/src/loadsave.cpp (239) findDecoder imread_('/Users/yu/Desktop/00000004.tif.large.jpg'): can't open/read file: check file path/integrity\n"
     ]
    },
    {
     "ename": "error",
     "evalue": "OpenCV(4.6.0) /croot/opencv-suite_1691620365762/work/modules/imgproc/src/color.cpp:182: error: (-215:Assertion failed) !_src.empty() in function 'cvtColor'\n",
     "output_type": "error",
     "traceback": [
      "\u001b[0;31m---------------------------------------------------------------------------\u001b[0m",
      "\u001b[0;31merror\u001b[0m                                     Traceback (most recent call last)",
      "Cell \u001b[0;32mIn[15], line 1\u001b[0m\n\u001b[0;32m----> 1\u001b[0m original_image, cropped_image \u001b[38;5;241m=\u001b[39m auto_crop_image(\u001b[38;5;124m'\u001b[39m\u001b[38;5;124m/Users/yu/Desktop/00000004.tif.large.jpg\u001b[39m\u001b[38;5;124m'\u001b[39m)\n\u001b[1;32m      2\u001b[0m fig, axes \u001b[38;5;241m=\u001b[39m plt\u001b[38;5;241m.\u001b[39msubplots(\u001b[38;5;241m1\u001b[39m, \u001b[38;5;241m2\u001b[39m, figsize\u001b[38;5;241m=\u001b[39m(\u001b[38;5;241m10\u001b[39m, \u001b[38;5;241m5\u001b[39m))\n\u001b[1;32m      4\u001b[0m axes[\u001b[38;5;241m0\u001b[39m]\u001b[38;5;241m.\u001b[39mimshow(cv2\u001b[38;5;241m.\u001b[39mcvtColor(original_image, cv2\u001b[38;5;241m.\u001b[39mCOLOR_BGR2RGB))\n",
      "Cell \u001b[0;32mIn[13], line 3\u001b[0m, in \u001b[0;36mauto_crop_image\u001b[0;34m(image_path)\u001b[0m\n\u001b[1;32m      1\u001b[0m \u001b[38;5;28;01mdef\u001b[39;00m \u001b[38;5;21mauto_crop_image\u001b[39m(image_path):\n\u001b[1;32m      2\u001b[0m     image \u001b[38;5;241m=\u001b[39m cv2\u001b[38;5;241m.\u001b[39mimread(image_path)\n\u001b[0;32m----> 3\u001b[0m     gray \u001b[38;5;241m=\u001b[39m cv2\u001b[38;5;241m.\u001b[39mcvtColor(image, cv2\u001b[38;5;241m.\u001b[39mCOLOR_BGR2GRAY)\n\u001b[1;32m      4\u001b[0m     edges \u001b[38;5;241m=\u001b[39m cv2\u001b[38;5;241m.\u001b[39mCanny(gray, \u001b[38;5;241m50\u001b[39m, \u001b[38;5;241m150\u001b[39m)\n\u001b[1;32m      6\u001b[0m     kernel \u001b[38;5;241m=\u001b[39m np\u001b[38;5;241m.\u001b[39mones((\u001b[38;5;241m5\u001b[39m,\u001b[38;5;241m5\u001b[39m), np\u001b[38;5;241m.\u001b[39muint8)\n",
      "\u001b[0;31merror\u001b[0m: OpenCV(4.6.0) /croot/opencv-suite_1691620365762/work/modules/imgproc/src/color.cpp:182: error: (-215:Assertion failed) !_src.empty() in function 'cvtColor'\n"
     ]
    }
   ],
   "source": [
    "original_image, cropped_image = auto_crop_image('/Users/yu/Desktop/00000004.tif.large.jpg')\n",
    "fig, axes = plt.subplots(1, 2, figsize=(10, 5))\n",
    "\n",
    "axes[0].imshow(cv2.cvtColor(original_image, cv2.COLOR_BGR2RGB))\n",
    "axes[0].set_title(\"Original Image\")\n",
    "axes[0].axis('off')\n",
    "\n",
    "if cropped_image is not None:\n",
    "    axes[1].imshow(cv2.cvtColor(cropped_image, cv2.COLOR_BGR2RGB))\n",
    "    axes[1].set_title(\"Cropped Image\")\n",
    "    save_path = '/Users/yu/Desktop/linshi/result/00000004_cropped.jpg'\n",
    "    cv2.imwrite(save_path, cropped_image)\n",
    "else:\n",
    "    axes[1].text(0.5, 0.5, 'No Change', horizontalalignment='center', verticalalignment='center')\n",
    "    save_path = '/Users/yu/Desktop/linshi/result/00000004_uncropped.jpg'\n",
    "    cv2.imwrite(save_path, original_image)\n",
    "axes[1].axis('off')\n",
    "\n",
    "plt.show()"
   ]
  },
  {
   "cell_type": "code",
   "execution_count": null,
   "id": "89010278",
   "metadata": {},
   "outputs": [],
   "source": [
    "import cv2\n",
    "import numpy as np\n",
    "import os\n",
    "import glob\n",
    "\n",
    "def auto_crop_image(image_path):\n",
    "    image = cv2.imread(image_path)\n",
    "    gray = cv2.cvtColor(image, cv2.COLOR_BGR2GRAY)\n",
    "    edges = cv2.Canny(gray, 50, 150)\n",
    "\n",
    "    kernel = np.ones((5,5), np.uint8)\n",
    "    dilated_edges = cv2.dilate(edges, kernel, iterations=1)\n",
    "\n",
    "    mask = np.ones_like(dilated_edges) * 255\n",
    "    mask[dilated_edges == 255] = 0\n",
    "\n",
    "    contours, _ = cv2.findContours(mask, cv2.RETR_EXTERNAL, cv2.CHAIN_APPROX_SIMPLE)\n",
    "    if contours:\n",
    "        sorted_contours = sorted(contours, key=cv2.contourArea, reverse=True)\n",
    "        x, y, w, h = cv2.boundingRect(sorted_contours[0])\n",
    "        cropped_image = image[y:y+h, x:x+w]\n",
    "        return image, cropped_image\n",
    "    else:\n",
    "        return image, None\n",
    "    \n",
    "source_folder = \"/home/vivek/Desktop/Freiheitskampf/1942\"\n",
    "result_folder = \"/home/vivek/Desktop/result\"\n",
    "\n",
    "\n",
    "# Ensure the result folder exists\n",
    "if not os.path.exists(result_folder):\n",
    "    os.makedirs(result_folder)\n",
    "\n",
    "for month in range(1, 13):\n",
    "    month_str = str(month).zfill(2)\n",
    "    month_source_folder = os.path.join(source_folder, month_str, \"files\")\n",
    "    month_result_folder = os.path.join(result_folder, month_str)\n",
    "\n",
    "    # Ensure the month folder in the result directory exists\n",
    "    if not os.path.exists(month_result_folder):\n",
    "        os.makedirs(month_result_folder)\n",
    "\n",
    "    for day in range(1, 32):  # Assuming up to 31 days in a month\n",
    "        day_str = str(day).zfill(2)\n",
    "        day_image_folder = os.path.join(month_source_folder, day_str, \"files\")\n",
    "\n",
    "        if os.path.isdir(day_image_folder):\n",
    "            for image_file in glob.glob(os.path.join(day_image_folder, \"*.jpg\")):\n",
    "                original_image, cropped_image = auto_crop_image(image_file)\n",
    "                \n",
    "                # Decide which image to save (cropped or original)\n",
    "                image_to_save = cropped_image if cropped_image is not None else original_image\n",
    "                if image_to_save is not None:\n",
    "                    # Create a unique file name to prevent overwriting\n",
    "                    image_basename = os.path.basename(image_file)\n",
    "                    new_image_name = f\"{month_str}_{day_str}_{image_basename.split('.')[0]}_cropped.jpg\" if cropped_image is not None else f\"{month_str}_{day_str}_{image_basename}\"\n",
    "                    save_path = os.path.join(month_result_folder, new_image_name)\n",
    "                    cv2.imwrite(save_path, image_to_save)\n"
   ]
  }
 ],
 "metadata": {
  "kernelspec": {
   "display_name": "Python 3 (ipykernel)",
   "language": "python",
   "name": "python3"
  },
  "language_info": {
   "codemirror_mode": {
    "name": "ipython",
    "version": 3
   },
   "file_extension": ".py",
   "mimetype": "text/x-python",
   "name": "python",
   "nbconvert_exporter": "python",
   "pygments_lexer": "ipython3",
   "version": "3.10.13"
  }
 },
 "nbformat": 4,
 "nbformat_minor": 5
}
